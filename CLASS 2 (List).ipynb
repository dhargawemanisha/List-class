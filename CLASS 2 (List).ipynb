{
 "cells": [
  {
   "cell_type": "markdown",
   "id": "65d7a054",
   "metadata": {},
   "source": [
    "# List"
   ]
  },
  {
   "cell_type": "code",
   "execution_count": 4,
   "id": "0a4d5e16",
   "metadata": {},
   "outputs": [],
   "source": [
    "# 1. Replace element of list: Banana=> apple\n",
    "fruits=[\"Mango\",\"Banana\",\"Cherry\",\"Grapes\"]\n",
    "fruits[1]=\"Apple\"\n"
   ]
  },
  {
   "cell_type": "code",
   "execution_count": 2,
   "id": "60000803",
   "metadata": {},
   "outputs": [
    {
     "name": "stdout",
     "output_type": "stream",
     "text": [
      "['Mango', 'Apple', 'Cherry', 'Grapes']\n"
     ]
    }
   ],
   "source": [
    "print(fruits)"
   ]
  },
  {
   "cell_type": "code",
   "execution_count": 6,
   "id": "0abe1cc3",
   "metadata": {},
   "outputs": [],
   "source": [
    "# 2. Appends Element to list\n",
    "fruits=[\"Mango\",\"Banana\",\"Cherry\",\"Grapes\"]\n",
    "fruits.append(\"Apple\")"
   ]
  },
  {
   "cell_type": "code",
   "execution_count": 7,
   "id": "3ae835b0",
   "metadata": {},
   "outputs": [
    {
     "name": "stdout",
     "output_type": "stream",
     "text": [
      "['Mango', 'Banana', 'Cherry', 'Grapes', 'Apple']\n"
     ]
    }
   ],
   "source": [
    "print(fruits)"
   ]
  },
  {
   "cell_type": "code",
   "execution_count": 11,
   "id": "15a250bf",
   "metadata": {},
   "outputs": [],
   "source": [
    "# 3. Extend element to list\n",
    "fruits=[\"Mango\",\"Banana\",\"Cherry\",\"Grapes\"]\n",
    "fruits.extend([\"Apple\",\"Kiwi\"])"
   ]
  },
  {
   "cell_type": "code",
   "execution_count": 12,
   "id": "c97029c1",
   "metadata": {},
   "outputs": [
    {
     "name": "stdout",
     "output_type": "stream",
     "text": [
      "['Mango', 'Banana', 'Cherry', 'Grapes', 'Apple', 'Kiwi']\n"
     ]
    }
   ],
   "source": [
    "print(fruits)"
   ]
  },
  {
   "cell_type": "code",
   "execution_count": 13,
   "id": "9f8657b6",
   "metadata": {},
   "outputs": [],
   "source": [
    "# 4. insert element to list\n",
    "fruits=[\"Mango\",\"Banana\",\"Cherry\",\"Grapes\"]\n",
    "fruits.insert(1,\"Apple\")\n"
   ]
  },
  {
   "cell_type": "code",
   "execution_count": 14,
   "id": "24275fad",
   "metadata": {},
   "outputs": [
    {
     "name": "stdout",
     "output_type": "stream",
     "text": [
      "['Mango', 'Apple', 'Banana', 'Cherry', 'Grapes']\n"
     ]
    }
   ],
   "source": [
    "print(fruits)"
   ]
  },
  {
   "cell_type": "code",
   "execution_count": 15,
   "id": "a8bc9304",
   "metadata": {},
   "outputs": [],
   "source": [
    "# 5. remove element to list\n",
    "fruits=[\"Mango\",\"Banana\",\"Cherry\",\"Grapes\"]\n",
    "fruits.remove(\"Banana\")\n"
   ]
  },
  {
   "cell_type": "code",
   "execution_count": 16,
   "id": "136543d0",
   "metadata": {},
   "outputs": [
    {
     "name": "stdout",
     "output_type": "stream",
     "text": [
      "['Mango', 'Cherry', 'Grapes']\n"
     ]
    }
   ],
   "source": [
    "print(fruits)"
   ]
  },
  {
   "cell_type": "code",
   "execution_count": 21,
   "id": "355c3080",
   "metadata": {},
   "outputs": [
    {
     "data": {
      "text/plain": [
       "'Cherry'"
      ]
     },
     "execution_count": 21,
     "metadata": {},
     "output_type": "execute_result"
    }
   ],
   "source": [
    "# 6. pop element to list\n",
    "fruits=[\"Mango\",\"Banana\",\"Cherry\",\"Grapes\"]\n",
    "fruits.pop(2)"
   ]
  },
  {
   "cell_type": "code",
   "execution_count": null,
   "id": "2a8fc7ea",
   "metadata": {},
   "outputs": [],
   "source": []
  }
 ],
 "metadata": {
  "kernelspec": {
   "display_name": "Python 3 (ipykernel)",
   "language": "python",
   "name": "python3"
  },
  "language_info": {
   "codemirror_mode": {
    "name": "ipython",
    "version": 3
   },
   "file_extension": ".py",
   "mimetype": "text/x-python",
   "name": "python",
   "nbconvert_exporter": "python",
   "pygments_lexer": "ipython3",
   "version": "3.9.12"
  }
 },
 "nbformat": 4,
 "nbformat_minor": 5
}
